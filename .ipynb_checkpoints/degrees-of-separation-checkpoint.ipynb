{
 "cells": [
  {
   "cell_type": "code",
   "execution_count": 1,
   "metadata": {},
   "outputs": [],
   "source": [
    "# %load degrees-of-separation.py\n",
    "#Boilerplate stuff:\n",
    "from pyspark import SparkConf, SparkContext\n",
    "\n",
    "conf = SparkConf().setMaster(\"local\").setAppName(\"DegreesOfSeparation\")\n",
    "sc = SparkContext(conf = conf)"
   ]
  },
  {
   "cell_type": "code",
   "execution_count": 2,
   "metadata": {},
   "outputs": [],
   "source": [
    "# The characters we wish to find the degree of separation between:\n",
    "startCharacterID = 5306 #SpiderMan\n",
    "targetCharacterID = 14  #ADAM 3,031 (who?)\n",
    "\n",
    "# Our accumulator, used to signal when we find the target character during\n",
    "# our BFS traversal.\n",
    "hitCounter = sc.accumulator(0)"
   ]
  },
  {
   "cell_type": "code",
   "execution_count": 13,
   "metadata": {},
   "outputs": [],
   "source": [
    "# 5983, 1165, 3386, 4361, 1282 => (5983, (1165, 3836, 4361, 1282), 9999, WHITE) \n",
    "def convertToBFS(line):\n",
    "    fields = line.split()\n",
    "    heroID = int(fields[0])\n",
    "    connections = []\n",
    "    for connection in fields[1:]:\n",
    "        connections.append(int(connection))\n",
    "\n",
    "    color = 'WHITE'\n",
    "    distance = 9999\n",
    "\n",
    "    if (heroID == startCharacterID):\n",
    "        color = 'GRAY'\n",
    "        distance = 0\n",
    "\n",
    "    return (heroID, (connections, distance, color))"
   ]
  },
  {
   "cell_type": "code",
   "execution_count": 14,
   "metadata": {},
   "outputs": [],
   "source": [
    "def createStartingRdd():\n",
    "    inputFile = sc.textFile(\"file:///home/dmadhok/spark_course/Marvel-Graph.txt\")\n",
    "#     inputFile = sc.textFile(\"file:///sparkcourse/marvel-graph.txt\")\n",
    "    return inputFile.map(convertToBFS)"
   ]
  },
  {
   "cell_type": "code",
   "execution_count": 15,
   "metadata": {},
   "outputs": [],
   "source": [
    "def bfsReduce(data1, data2):\n",
    "    edges1 = data1[0]\n",
    "    edges2 = data2[0]\n",
    "    distance1 = data1[1]\n",
    "    distance2 = data2[1]\n",
    "    color1 = data1[2]\n",
    "    color2 = data2[2]\n",
    "\n",
    "    distance = 9999\n",
    "    color = color1\n",
    "    edges = []\n",
    "\n",
    "    # See if one is the original node with its connections.\n",
    "    # If so preserve them.\n",
    "    if (len(edges1) > 0):\n",
    "        edges.extend(edges1)\n",
    "    if (len(edges2) > 0):\n",
    "        edges.extend(edges2)\n",
    "\n",
    "    # Preserve minimum distance\n",
    "    if (distance1 < distance):\n",
    "        distance = distance1\n",
    "\n",
    "    if (distance2 < distance):\n",
    "        distance = distance2\n",
    "\n",
    "    # Preserve darkest color\n",
    "    if (color1 == 'WHITE' and (color2 == 'GRAY' or color2 == 'BLACK')):\n",
    "        color = color2\n",
    "\n",
    "    if (color1 == 'GRAY' and color2 == 'BLACK'):\n",
    "        color = color2\n",
    "\n",
    "    if (color2 == 'WHITE' and (color1 == 'GRAY' or color1 == 'BLACK')):\n",
    "        color = color1\n",
    "\n",
    "    if (color2 == 'GRAY' and color1 == 'BLACK'):\n",
    "        color = color1\n",
    "\n",
    "    return (edges, distance, color)"
   ]
  },
  {
   "cell_type": "code",
   "execution_count": 16,
   "metadata": {},
   "outputs": [],
   "source": [
    "def bfsMap(node):\n",
    "    characterID = node[0]\n",
    "    data = node[1]\n",
    "    connections = data[0]\n",
    "    distance = data[1]\n",
    "    color = data[2]\n",
    "\n",
    "    results = []\n",
    "\n",
    "    #If this node needs to be expanded...\n",
    "    if (color == 'GRAY'):\n",
    "        for connection in connections:\n",
    "            newCharacterID = connection\n",
    "            newDistance = distance + 1\n",
    "            newColor = 'GRAY'\n",
    "            if (targetCharacterID == connection):\n",
    "                hitCounter.add(1)\n",
    "\n",
    "            newEntry = (newCharacterID, ([], newDistance, newColor))\n",
    "            results.append(newEntry)\n",
    "\n",
    "        #We've processed this node, so color it black\n",
    "        color = 'BLACK'\n",
    "\n",
    "    #Emit the input node so we don't lose it.\n",
    "    results.append( (characterID, (connections, distance, color)) )\n",
    "    return results"
   ]
  },
  {
   "cell_type": "code",
   "execution_count": 25,
   "metadata": {},
   "outputs": [
    {
     "name": "stdout",
     "output_type": "stream",
     "text": [
      "Starting RDD: \n",
      "[(5988, ([748, 1722, 3752, 4655, 5743, 1872, 3413, 5527, 6368, 6085, 4319, 4728, 1636, 2397, 3364, 4001, 1614, 1819, 1585, 732, 2660, 3952, 2507, 3891, 2070, 2239, 2602, 612, 1352, 5447, 4548, 1596, 5488, 1605, 5517, 11, 479, 2554, 2043, 17, 865, 4292, 6312, 473, 534, 1479, 6375, 4456], 9999, 'WHITE')), (5989, ([4080, 4264, 4446, 3779, 2430, 2297, 6169, 3530, 3272, 4282, 6432, 2548, 4140, 185, 105, 3878, 2429, 1334, 4595, 2767, 3956, 3877, 4776, 4946, 3407, 128, 269, 5775, 5121, 481, 5516, 4758, 4053, 1044, 1602, 3889, 1535, 6038, 533, 3986], 9999, 'WHITE')), (5982, ([217, 595, 1194, 3308, 2940, 1815, 794, 1503, 5197, 859, 5096, 6039, 2664, 651, 2244, 528, 284, 1449, 1097, 1172, 1092, 108, 3405, 5204, 387, 4607, 4545, 3705, 4930, 1805, 4712, 4404, 247, 4754, 4427, 1845, 536, 5795, 5978, 533, 3984, 6056], 9999, 'WHITE')), (5983, ([1165, 3836, 4361, 1282, 716, 4289, 4646, 6300, 5084, 2397, 4454, 1913, 5861, 5485], 9999, 'WHITE')), (5980, ([2731, 3712, 1587, 6084, 2472, 2546, 6313, 875, 859, 323, 2664, 1469, 522, 2506, 2919, 2423, 3624, 5736, 5046, 1787, 5776, 3245, 3840, 2399], 9999, 'WHITE'))]\n",
      "\n",
      "\n",
      "Running BFS iteration# 1\n",
      "[(5988, ([748, 1722, 3752, 4655, 5743, 1872, 3413, 5527, 6368, 6085, 4319, 4728, 1636, 2397, 3364, 4001, 1614, 1819, 1585, 732, 2660, 3952, 2507, 3891, 2070, 2239, 2602, 612, 1352, 5447, 4548, 1596, 5488, 1605, 5517, 11, 479, 2554, 2043, 17, 865, 4292, 6312, 473, 534, 1479, 6375, 4456], 9999, 'WHITE')), (5989, ([4080, 4264, 4446, 3779, 2430, 2297, 6169, 3530, 3272, 4282, 6432, 2548, 4140, 185, 105, 3878, 2429, 1334, 4595, 2767, 3956, 3877, 4776, 4946, 3407, 128, 269, 5775, 5121, 481, 5516, 4758, 4053, 1044, 1602, 3889, 1535, 6038, 533, 3986], 9999, 'WHITE')), (5982, ([217, 595, 1194, 3308, 2940, 1815, 794, 1503, 5197, 859, 5096, 6039, 2664, 651, 2244, 528, 284, 1449, 1097, 1172, 1092, 108, 3405, 5204, 387, 4607, 4545, 3705, 4930, 1805, 4712, 4404, 247, 4754, 4427, 1845, 536, 5795, 5978, 533, 3984, 6056], 9999, 'WHITE')), (5983, ([1165, 3836, 4361, 1282, 716, 4289, 4646, 6300, 5084, 2397, 4454, 1913, 5861, 5485], 9999, 'WHITE')), (5980, ([2731, 3712, 1587, 6084, 2472, 2546, 6313, 875, 859, 323, 2664, 1469, 522, 2506, 2919, 2423, 3624, 5736, 5046, 1787, 5776, 3245, 3840, 2399], 9999, 'WHITE'))]\n",
      "Processing 8330 values.\n",
      "Hit the target character! From 1 different direction(s).\n"
     ]
    }
   ],
   "source": [
    "#Main program here:\n",
    "iterationRdd = createStartingRdd()\n",
    "print (\"Starting RDD: \")\n",
    "print (iterationRdd.take(5))\n",
    "print (\"\\n\")\n",
    "\n",
    "for iteration in range(0, 10):\n",
    "    print(\"Running BFS iteration# \" + str(iteration+1))\n",
    "\n",
    "    # Create new vertices as needed to darken or reduce distances in the\n",
    "    # reduce stage. If we encounter the node we're looking for as a GRAY\n",
    "    # node, increment our accumulator to signal that we're done.\n",
    "    mapped = iterationRdd.flatMap(bfsMap)\n",
    "    print (mapped.take(5))\n",
    "\n",
    "    # Note that mapped.count() action here forces the RDD to be evaluated, and\n",
    "    # that's the only reason our accumulator is actually updated.\n",
    "    print(\"Processing \" + str(mapped.count()) + \" values.\")\n",
    "\n",
    "    if (hitCounter.value > 0):\n",
    "        print(\"Hit the target character! From \" + str(hitCounter.value) \\\n",
    "            + \" different direction(s).\")\n",
    "        break\n",
    "\n",
    "    # Reducer combines data for each character ID, preserving the darkest\n",
    "    # color and shortest path.\n",
    "    iterationRdd = mapped.reduceByKey(bfsReduce)"
   ]
  },
  {
   "cell_type": "code",
   "execution_count": null,
   "metadata": {},
   "outputs": [],
   "source": []
  }
 ],
 "metadata": {
  "kernelspec": {
   "display_name": "Python 3",
   "language": "python",
   "name": "python3"
  },
  "language_info": {
   "codemirror_mode": {
    "name": "ipython",
    "version": 3
   },
   "file_extension": ".py",
   "mimetype": "text/x-python",
   "name": "python",
   "nbconvert_exporter": "python",
   "pygments_lexer": "ipython3",
   "version": "3.6.6"
  }
 },
 "nbformat": 4,
 "nbformat_minor": 2
}
