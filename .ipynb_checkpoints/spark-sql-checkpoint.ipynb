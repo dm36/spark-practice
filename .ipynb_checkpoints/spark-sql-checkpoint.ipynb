{
 "cells": [
  {
   "cell_type": "code",
   "execution_count": 22,
   "metadata": {},
   "outputs": [],
   "source": [
    "# %load spark-sql.py\n",
    "from pyspark.sql import SparkSession\n",
    "from pyspark.sql import Row\n",
    "from pyspark import SparkConf, SparkContext\n",
    "import collections"
   ]
  },
  {
   "cell_type": "code",
   "execution_count": 23,
   "metadata": {},
   "outputs": [],
   "source": [
    "spark = SparkSession.builder.config(\"spark.sql.warehouse.dir\", \"file:///C:/temp\").appName(\"SparkSQL\").getOrCreate()"
   ]
  },
  {
   "cell_type": "code",
   "execution_count": 24,
   "metadata": {},
   "outputs": [],
   "source": [
    "# Converts a line into a row object, RDD -> DataFrame, RDD of Row objects\n",
    "def mapper(line):\n",
    "    fields = line.split(',')\n",
    "    return Row(ID=int(fields[0]), name=str(fields[1].encode(\"utf-8\")), age=int(fields[2]), numFriends=int(fields[3]))"
   ]
  },
  {
   "cell_type": "code",
   "execution_count": 25,
   "metadata": {},
   "outputs": [
    {
     "data": {
      "text/plain": [
       "['0,Will,33,385',\n",
       " '1,Jean-Luc,26,2',\n",
       " '2,Hugh,55,221',\n",
       " '3,Deanna,40,465',\n",
       " '4,Quark,68,21']"
      ]
     },
     "execution_count": 25,
     "metadata": {},
     "output_type": "execute_result"
    }
   ],
   "source": [
    "lines = spark.sparkContext.textFile(\"file:///home/dmadhok/spark_course/fakefriends.csv\")\n",
    "lines.take(5)"
   ]
  },
  {
   "cell_type": "code",
   "execution_count": 26,
   "metadata": {},
   "outputs": [
    {
     "data": {
      "text/plain": [
       "[Row(ID=0, age=33, name=\"b'Will'\", numFriends=385),\n",
       " Row(ID=1, age=26, name=\"b'Jean-Luc'\", numFriends=2),\n",
       " Row(ID=2, age=55, name=\"b'Hugh'\", numFriends=221),\n",
       " Row(ID=3, age=40, name=\"b'Deanna'\", numFriends=465),\n",
       " Row(ID=4, age=68, name=\"b'Quark'\", numFriends=21)]"
      ]
     },
     "execution_count": 26,
     "metadata": {},
     "output_type": "execute_result"
    }
   ],
   "source": [
    "people = lines.map(mapper)\n",
    "people.take(5)"
   ]
  },
  {
   "cell_type": "code",
   "execution_count": 27,
   "metadata": {},
   "outputs": [
    {
     "data": {
      "text/plain": [
       "[Row(ID=0, age=33, name=\"b'Will'\", numFriends=385),\n",
       " Row(ID=1, age=26, name=\"b'Jean-Luc'\", numFriends=2),\n",
       " Row(ID=2, age=55, name=\"b'Hugh'\", numFriends=221),\n",
       " Row(ID=3, age=40, name=\"b'Deanna'\", numFriends=465),\n",
       " Row(ID=4, age=68, name=\"b'Quark'\", numFriends=21)]"
      ]
     },
     "execution_count": 27,
     "metadata": {},
     "output_type": "execute_result"
    }
   ],
   "source": [
    "schemaPeople = spark.createDataFrame(people).cache()\n",
    "schemaPeople.take(5)"
   ]
  },
  {
   "cell_type": "code",
   "execution_count": 28,
   "metadata": {},
   "outputs": [
    {
     "data": {
      "text/plain": [
       "[Row(ID=0, age=33, name=\"b'Will'\", numFriends=385),\n",
       " Row(ID=1, age=26, name=\"b'Jean-Luc'\", numFriends=2),\n",
       " Row(ID=2, age=55, name=\"b'Hugh'\", numFriends=221),\n",
       " Row(ID=3, age=40, name=\"b'Deanna'\", numFriends=465),\n",
       " Row(ID=4, age=68, name=\"b'Quark'\", numFriends=21)]"
      ]
     },
     "execution_count": 28,
     "metadata": {},
     "output_type": "execute_result"
    }
   ],
   "source": [
    "# Temporary SQL table in memory called people that can we issue queries on\n",
    "schemaPeople.createOrReplaceTempView(\"people\")\n",
    "schemaPeople.take(5)"
   ]
  },
  {
   "cell_type": "code",
   "execution_count": 29,
   "metadata": {},
   "outputs": [],
   "source": [
    "# SQL can be run over DataFrames that have been registered as a table.\n",
    "\n",
    "# People is the temporary table we created (schemaTable.createOrReplaceTempView), we're able to query on age\n",
    "# because of how we built the rows above\n",
    "teenagers = spark.sql(\"SELECT * FROM people WHERE age >= 13 AND age <= 19\")"
   ]
  },
  {
   "cell_type": "code",
   "execution_count": 30,
   "metadata": {},
   "outputs": [
    {
     "name": "stdout",
     "output_type": "stream",
     "text": [
      "Row(ID=21, age=19, name=\"b'Miles'\", numFriends=268)\n",
      "Row(ID=52, age=19, name=\"b'Beverly'\", numFriends=269)\n",
      "Row(ID=54, age=19, name=\"b'Brunt'\", numFriends=5)\n",
      "Row(ID=106, age=18, name=\"b'Beverly'\", numFriends=499)\n",
      "Row(ID=115, age=18, name=\"b'Dukat'\", numFriends=397)\n",
      "Row(ID=133, age=19, name=\"b'Quark'\", numFriends=265)\n",
      "Row(ID=136, age=19, name=\"b'Will'\", numFriends=335)\n",
      "Row(ID=225, age=19, name=\"b'Elim'\", numFriends=106)\n",
      "Row(ID=304, age=19, name=\"b'Will'\", numFriends=404)\n",
      "Row(ID=341, age=18, name=\"b'Data'\", numFriends=326)\n",
      "Row(ID=366, age=19, name=\"b'Keiko'\", numFriends=119)\n",
      "Row(ID=373, age=19, name=\"b'Quark'\", numFriends=272)\n",
      "Row(ID=377, age=18, name=\"b'Beverly'\", numFriends=418)\n",
      "Row(ID=404, age=18, name=\"b'Kasidy'\", numFriends=24)\n",
      "Row(ID=409, age=19, name=\"b'Nog'\", numFriends=267)\n",
      "Row(ID=439, age=18, name=\"b'Data'\", numFriends=417)\n",
      "Row(ID=444, age=18, name=\"b'Keiko'\", numFriends=472)\n",
      "Row(ID=492, age=19, name=\"b'Dukat'\", numFriends=36)\n",
      "Row(ID=494, age=18, name=\"b'Kasidy'\", numFriends=194)\n"
     ]
    }
   ],
   "source": [
    "# The results of SQL queries are RDDs and support all the normal RDD operations.\n",
    "for teen in teenagers.collect():\n",
    "  print(teen)"
   ]
  },
  {
   "cell_type": "code",
   "execution_count": 31,
   "metadata": {},
   "outputs": [
    {
     "name": "stdout",
     "output_type": "stream",
     "text": [
      "+---+-----+\n",
      "|age|count|\n",
      "+---+-----+\n",
      "| 18|    8|\n",
      "| 19|   11|\n",
      "| 20|    5|\n",
      "| 21|    8|\n",
      "| 22|    7|\n",
      "| 23|   10|\n",
      "| 24|    5|\n",
      "| 25|   11|\n",
      "| 26|   17|\n",
      "| 27|    8|\n",
      "| 28|   10|\n",
      "| 29|   12|\n",
      "| 30|   11|\n",
      "| 31|    8|\n",
      "| 32|   11|\n",
      "| 33|   12|\n",
      "| 34|    6|\n",
      "| 35|    8|\n",
      "| 36|   10|\n",
      "| 37|    9|\n",
      "+---+-----+\n",
      "only showing top 20 rows\n",
      "\n"
     ]
    }
   ],
   "source": [
    "# Arguably more efficient. We can also use functions instead of SQL queries:\n",
    "\n",
    "# Number of people with a given age\n",
    "schemaPeople.groupBy(\"age\").count().orderBy(\"age\").show()"
   ]
  },
  {
   "cell_type": "code",
   "execution_count": 34,
   "metadata": {},
   "outputs": [],
   "source": [
    "spark.stop()"
   ]
  }
 ],
 "metadata": {
  "kernelspec": {
   "display_name": "Python 3",
   "language": "python",
   "name": "python3"
  },
  "language_info": {
   "codemirror_mode": {
    "name": "ipython",
    "version": 3
   },
   "file_extension": ".py",
   "mimetype": "text/x-python",
   "name": "python",
   "nbconvert_exporter": "python",
   "pygments_lexer": "ipython3",
   "version": "3.6.6"
  }
 },
 "nbformat": 4,
 "nbformat_minor": 2
}
